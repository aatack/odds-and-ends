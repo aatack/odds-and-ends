{
 "cells": [
  {
   "cell_type": "code",
   "execution_count": null,
   "id": "d4bf8fd6",
   "metadata": {},
   "outputs": [],
   "source": [
    "from log_files.logs import generate_log_files\n",
    "\n",
    "\n",
    "generate_log_files()"
   ]
  },
  {
   "cell_type": "code",
   "execution_count": null,
   "id": "2c75624f",
   "metadata": {},
   "outputs": [],
   "source": [
    "from log_files.logs import deserialise_logs\n",
    "\n",
    "\n",
    "logs = list(deserialise_logs(\"data\"))"
   ]
  },
  {
   "cell_type": "code",
   "execution_count": null,
   "id": "9a3c0a15",
   "metadata": {},
   "outputs": [],
   "source": [
    "from log_files.statistics import method_statistics\n",
    "\n",
    "\n",
    "method_statistics(logs)"
   ]
  },
  {
   "cell_type": "code",
   "execution_count": null,
   "id": "28ca4491",
   "metadata": {},
   "outputs": [],
   "source": [
    "from log_files.statistics import user_activity\n",
    "\n",
    "\n",
    "user_activity(logs)"
   ]
  },
  {
   "cell_type": "code",
   "execution_count": null,
   "id": "8d546312",
   "metadata": {},
   "outputs": [],
   "source": [
    "from log_files.statistics import user_runtimes\n",
    "\n",
    "\n",
    "user_runtimes(logs)\n",
    "user_runtimes(logs, sort_by=\"highest\")\n",
    "user_runtimes(logs, sort_by=\"lowest\")"
   ]
  },
  {
   "cell_type": "code",
   "execution_count": null,
   "id": "3dc21cfc",
   "metadata": {},
   "outputs": [],
   "source": [
    "from log_files.statistics import longest_running_methods\n",
    "\n",
    "\n",
    "longest_running_methods(logs, by=\"mean\")\n",
    "longest_running_methods(logs, by=\"total\")"
   ]
  },
  {
   "cell_type": "code",
   "execution_count": null,
   "id": "d57f3f6f",
   "metadata": {},
   "outputs": [],
   "source": [
    "from log_files.statistics import busiest_periods\n",
    "\n",
    "\n",
    "busiest_periods(logs)"
   ]
  },
  {
   "cell_type": "code",
   "execution_count": null,
   "id": "d3d3c6a9",
   "metadata": {},
   "outputs": [],
   "source": [
    "from log_files.statistics import busiest_day_by_active_users\n",
    "\n",
    "\n",
    "busiest_day_by_active_users(logs)"
   ]
  },
  {
   "cell_type": "code",
   "execution_count": null,
   "id": "2bfcb101",
   "metadata": {},
   "outputs": [],
   "source": [
    "from log_files.statistics import busiest_day_by_total_time\n",
    "\n",
    "\n",
    "busiest_day_by_total_time(logs)"
   ]
  }
 ],
 "metadata": {
  "kernelspec": {
   "display_name": "log_files",
   "language": "python",
   "name": "python3"
  },
  "language_info": {
   "codemirror_mode": {
    "name": "ipython",
    "version": 3
   },
   "file_extension": ".py",
   "mimetype": "text/x-python",
   "name": "python",
   "nbconvert_exporter": "python",
   "pygments_lexer": "ipython3",
   "version": "3.12.7"
  }
 },
 "nbformat": 4,
 "nbformat_minor": 5
}
